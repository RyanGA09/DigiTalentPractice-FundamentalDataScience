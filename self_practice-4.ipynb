{
 "cells": [
  {
   "cell_type": "markdown",
   "id": "225cbac5",
   "metadata": {},
   "source": [
    "# Self Practice 4 - Data Annotation\n",
    "___\n",
    "\n",
    "## Material\n",
    "\n",
    "- Data Understanding (From Practice [Self Practice 3](self_practice-3.ipynb))\n",
    "- Data Cleansing (From  Practice [Self Practice 3](self_practice-3.ipynb))\n",
    "- Data Annotation\n",
    "___"
   ]
  },
  {
   "cell_type": "markdown",
   "id": "c07dcc1b",
   "metadata": {},
   "source": [
    "## Import Library"
   ]
  },
  {
   "cell_type": "code",
   "execution_count": 1,
   "id": "4b497783",
   "metadata": {},
   "outputs": [],
   "source": [
    "import pandas as pd\n",
    "from sklearn.datasets import load_iris"
   ]
  },
  {
   "cell_type": "markdown",
   "id": "80fa36c0",
   "metadata": {},
   "source": [
    "## Load Dataset"
   ]
  },
  {
   "cell_type": "code",
   "execution_count": 2,
   "id": "0082ae5a",
   "metadata": {},
   "outputs": [],
   "source": [
    "# Load the Iris dataset\n",
    "iris = load_iris()\n",
    "df = pd.DataFrame(data=iris.data, columns=iris.feature_names)\n",
    "df['target'] = iris.target"
   ]
  },
  {
   "cell_type": "markdown",
   "id": "7eb101ec",
   "metadata": {},
   "source": [
    "## Data Understanding"
   ]
  },
  {
   "cell_type": "code",
   "execution_count": 3,
   "id": "7e9d5322",
   "metadata": {},
   "outputs": [
    {
     "name": "stdout",
     "output_type": "stream",
     "text": [
      "Number of records: 150\n"
     ]
    }
   ],
   "source": [
    "# Identify the number of records\n",
    "print(\"Number of records:\", df.shape[0])"
   ]
  },
  {
   "cell_type": "code",
   "execution_count": 4,
   "id": "982dcc55",
   "metadata": {},
   "outputs": [
    {
     "name": "stdout",
     "output_type": "stream",
     "text": [
      "\n",
      "Data types:\n",
      "sepal length (cm)    float64\n",
      "sepal width (cm)     float64\n",
      "petal length (cm)    float64\n",
      "petal width (cm)     float64\n",
      "target                 int32\n",
      "dtype: object\n"
     ]
    }
   ],
   "source": [
    "# Identify data types\n",
    "print(\"\\nData types:\")\n",
    "print(df.dtypes)"
   ]
  },
  {
   "cell_type": "code",
   "execution_count": 5,
   "id": "ac804646",
   "metadata": {},
   "outputs": [
    {
     "name": "stdout",
     "output_type": "stream",
     "text": [
      "\n",
      "Number of missing values:\n",
      "sepal length (cm)    0\n",
      "sepal width (cm)     0\n",
      "petal length (cm)    0\n",
      "petal width (cm)     0\n",
      "target               0\n",
      "dtype: int64\n"
     ]
    }
   ],
   "source": [
    "# Identify missing values\n",
    "print(\"\\nNumber of missing values:\")\n",
    "print(df.isnull().sum())"
   ]
  },
  {
   "cell_type": "code",
   "execution_count": 6,
   "id": "a8bc7cd9",
   "metadata": {},
   "outputs": [
    {
     "name": "stdout",
     "output_type": "stream",
     "text": [
      "\n",
      "Outliers in column sepal length (cm):\n",
      "Empty DataFrame\n",
      "Columns: [sepal length (cm), sepal width (cm), petal length (cm), petal width (cm), target]\n",
      "Index: []\n",
      "\n",
      "Outliers in column sepal width (cm):\n",
      "    sepal length (cm)  sepal width (cm)  petal length (cm)  petal width (cm)  \\\n",
      "15                5.7               4.4                1.5               0.4   \n",
      "32                5.2               4.1                1.5               0.1   \n",
      "33                5.5               4.2                1.4               0.2   \n",
      "60                5.0               2.0                3.5               1.0   \n",
      "\n",
      "    target  \n",
      "15       0  \n",
      "32       0  \n",
      "33       0  \n",
      "60       1  \n",
      "\n",
      "Outliers in column petal length (cm):\n",
      "Empty DataFrame\n",
      "Columns: [sepal length (cm), sepal width (cm), petal length (cm), petal width (cm), target]\n",
      "Index: []\n",
      "\n",
      "Outliers in column petal width (cm):\n",
      "Empty DataFrame\n",
      "Columns: [sepal length (cm), sepal width (cm), petal length (cm), petal width (cm), target]\n",
      "Index: []\n"
     ]
    }
   ],
   "source": [
    "# Identify outliers using IQR method\n",
    "for column in df.columns[:-1]: # Exclude 'target'\n",
    "    Q1 = df[column].quantile(0.25)\n",
    "    Q3 = df[column].quantile(0.75)\n",
    "    IQR = Q3 - Q1\n",
    "    lower_bound = Q1 - 1.5 * IQR\n",
    "    upper_bound = Q3 + 1.5 * IQR\n",
    "    outliers = df[(df[column] < lower_bound) | (df[column] > upper_bound)]\n",
    "    print(f\"\\nOutliers in column {column}:\")\n",
    "    print(outliers)"
   ]
  },
  {
   "cell_type": "code",
   "execution_count": 7,
   "id": "0a149fe0",
   "metadata": {},
   "outputs": [
    {
     "name": "stdout",
     "output_type": "stream",
     "text": [
      "\n",
      "Description of statistics before cleaning:\n",
      "       sepal length (cm)  sepal width (cm)  petal length (cm)  \\\n",
      "count         150.000000        150.000000         150.000000   \n",
      "mean            5.843333          3.057333           3.758000   \n",
      "std             0.828066          0.435866           1.765298   \n",
      "min             4.300000          2.000000           1.000000   \n",
      "25%             5.100000          2.800000           1.600000   \n",
      "50%             5.800000          3.000000           4.350000   \n",
      "75%             6.400000          3.300000           5.100000   \n",
      "max             7.900000          4.400000           6.900000   \n",
      "\n",
      "       petal width (cm)      target  \n",
      "count        150.000000  150.000000  \n",
      "mean           1.199333    1.000000  \n",
      "std            0.762238    0.819232  \n",
      "min            0.100000    0.000000  \n",
      "25%            0.300000    0.000000  \n",
      "50%            1.300000    1.000000  \n",
      "75%            1.800000    2.000000  \n",
      "max            2.500000    2.000000  \n"
     ]
    }
   ],
   "source": [
    "# Description of initial statistics\n",
    "print(\"\\nDescription of statistics before cleaning:\")\n",
    "print(df.describe())"
   ]
  },
  {
   "cell_type": "markdown",
   "id": "a7be2f9c",
   "metadata": {},
   "source": [
    "## Data Cleansing"
   ]
  },
  {
   "cell_type": "code",
   "execution_count": 8,
   "id": "1e566e50",
   "metadata": {},
   "outputs": [
    {
     "name": "stdout",
     "output_type": "stream",
     "text": [
      "\n",
      "Statistical description after cleaning:\n",
      "       sepal length (cm)  sepal width (cm)  petal length (cm)  \\\n",
      "count         150.000000         150.00000         150.000000   \n",
      "mean            5.843333           3.05400           3.758000   \n",
      "std             0.828066           0.42539           1.765298   \n",
      "min             4.300000           2.05000           1.000000   \n",
      "25%             5.100000           2.80000           1.600000   \n",
      "50%             5.800000           3.00000           4.350000   \n",
      "75%             6.400000           3.30000           5.100000   \n",
      "max             7.900000           4.05000           6.900000   \n",
      "\n",
      "       petal width (cm)      target  \n",
      "count        150.000000  150.000000  \n",
      "mean           1.199333    1.000000  \n",
      "std            0.762238    0.819232  \n",
      "min            0.100000    0.000000  \n",
      "25%            0.300000    0.000000  \n",
      "50%            1.300000    1.000000  \n",
      "75%            1.800000    2.000000  \n",
      "max            2.500000    2.000000  \n"
     ]
    },
    {
     "name": "stderr",
     "output_type": "stream",
     "text": [
      "C:\\Users\\Ryan\\AppData\\Local\\Temp\\ipykernel_33260\\2687224140.py:5: FutureWarning: A value is trying to be set on a copy of a DataFrame or Series through chained assignment using an inplace method.\n",
      "The behavior will change in pandas 3.0. This inplace method will never work because the intermediate object on which we are setting values always behaves as a copy.\n",
      "\n",
      "For example, when doing 'df[col].method(value, inplace=True)', try using 'df.method({col: value}, inplace=True)' or df[col] = df[col].method(value) instead, to perform the operation inplace on the original object.\n",
      "\n",
      "\n",
      "  df['sepal length (cm)'].fillna(df['sepal length (cm)'].mean(), inplace=True)\n",
      "C:\\Users\\Ryan\\AppData\\Local\\Temp\\ipykernel_33260\\2687224140.py:6: FutureWarning: A value is trying to be set on a copy of a DataFrame or Series through chained assignment using an inplace method.\n",
      "The behavior will change in pandas 3.0. This inplace method will never work because the intermediate object on which we are setting values always behaves as a copy.\n",
      "\n",
      "For example, when doing 'df[col].method(value, inplace=True)', try using 'df.method({col: value}, inplace=True)' or df[col] = df[col].method(value) instead, to perform the operation inplace on the original object.\n",
      "\n",
      "\n",
      "  df['sepal width (cm)']. fillna(df['sepal width (cm)'].median(), inplace=True)\n",
      "C:\\Users\\Ryan\\AppData\\Local\\Temp\\ipykernel_33260\\2687224140.py:7: FutureWarning: A value is trying to be set on a copy of a DataFrame or Series through chained assignment using an inplace method.\n",
      "The behavior will change in pandas 3.0. This inplace method will never work because the intermediate object on which we are setting values always behaves as a copy.\n",
      "\n",
      "For example, when doing 'df[col].method(value, inplace=True)', try using 'df.method({col: value}, inplace=True)' or df[col] = df[col].method(value) instead, to perform the operation inplace on the original object.\n",
      "\n",
      "\n",
      "  df['petal length (cm)'].fillna(df['petal length (cm)'].mode()[0], inplace=True)\n"
     ]
    }
   ],
   "source": [
    "## Data cleaning steps\n",
    "# Fill in missing values (if any)\n",
    "# In the iris dataset, there are no missing values, so this part can be skipped.\n",
    "# However, if there are, you can use:\n",
    "df['sepal length (cm)'].fillna(df['sepal length (cm)'].mean(), inplace=True) \n",
    "df['sepal width (cm)']. fillna(df['sepal width (cm)'].median(), inplace=True)\n",
    "df['petal length (cm)'].fillna(df['petal length (cm)'].mode()[0], inplace=True)\n",
    "\n",
    "# Deleting rows with incorrect data (if any)\n",
    "# In the iris dataset, there is no obvious incorrect data.\n",
    "# However, if there is, you can use:\n",
    "df.drop(df[df['sepal length (cm)'] < 0].index, inplace=True)\n",
    "\n",
    "# Correcting outlier values\n",
    "for column in df.columns[:-1]:\n",
    "    Q1 = df[column].quantile(0.25)\n",
    "    Q3 = df[column].quantile(0.75)\n",
    "    IQR = Q3 - Q1\n",
    "    lower_bound = Q1 - 1.5 * IQR\n",
    "    upper_bound = Q3 + 1.5 * IQR\n",
    "    df[column] = df[column].clip(lower_bound, upper_bound)\n",
    "\n",
    "# After data cleaning\n",
    "print(\"\\nStatistical description after cleaning:\")\n",
    "print(df.describe())"
   ]
  },
  {
   "cell_type": "markdown",
   "id": "d1732cc8",
   "metadata": {},
   "source": [
    "## Data Annotation"
   ]
  },
  {
   "cell_type": "code",
   "execution_count": 9,
   "id": "e67e3d18",
   "metadata": {},
   "outputs": [
    {
     "name": "stdout",
     "output_type": "stream",
     "text": [
      "\n",
      "Data with label based on SOP:\n",
      "   sepal length (cm)  sepal width (cm)  petal length (cm)  petal width (cm)  \\\n",
      "0                5.1               3.5                1.4               0.2   \n",
      "1                4.9               3.0                1.4               0.2   \n",
      "2                4.7               3.2                1.3               0.2   \n",
      "3                4.6               3.1                1.5               0.2   \n",
      "4                5.0               3.6                1.4               0.2   \n",
      "\n",
      "   target target_label  \n",
      "0       0       Setosa  \n",
      "1       0       Setosa  \n",
      "2       0       Setosa  \n",
      "3       0       Setosa  \n",
      "4       0       Setosa  \n"
     ]
    }
   ],
   "source": [
    "## Identify the target data and perform labelling\n",
    "# In the iris dataset, the “target” column already represents the class label (0, 1, 2).\n",
    "# However, if more specific labelling is required based on the SOP,\n",
    "# we can do label mapping according to the needs.\n",
    "\n",
    "## For example, if the SOP specifies that:\n",
    "# - target 0: Setosa\n",
    "# - target 1: Versicolor\n",
    "# - target 2: Virginica\n",
    "# We can create a label mapping like this:\n",
    "\n",
    "label_mapping = {\n",
    "    0: 'Setosa',\n",
    "    1: 'Versicolor',\n",
    "    2: 'Virginica'\n",
    "}\n",
    "\n",
    "# Create a new column 'target_label' containing the text label\n",
    "df['target_label'] = df['target'].map(label_mapping)\n",
    "\n",
    "# Show data with new label\n",
    "print(\"\\nData with label based on SOP:\")\n",
    "print(df.head())"
   ]
  }
 ],
 "metadata": {
  "kernelspec": {
   "display_name": "Python 3",
   "language": "python",
   "name": "python3"
  },
  "language_info": {
   "codemirror_mode": {
    "name": "ipython",
    "version": 3
   },
   "file_extension": ".py",
   "mimetype": "text/x-python",
   "name": "python",
   "nbconvert_exporter": "python",
   "pygments_lexer": "ipython3",
   "version": "3.11.5"
  }
 },
 "nbformat": 4,
 "nbformat_minor": 5
}
